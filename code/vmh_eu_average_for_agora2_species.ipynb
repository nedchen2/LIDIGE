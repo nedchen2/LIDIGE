{
 "cells": [
  {
   "cell_type": "markdown",
   "id": "5d8118da",
   "metadata": {},
   "source": [
    "# MICOM medium for VMH eu average diet\n",
    "\n",
    "Here we will build up the environmental conditions used for modeling. We will start from the metabolite abundances obtained from the VMH diet designer and basically go through the following step.\n",
    "\n",
    "1. Convert to fluxes and adjust very low abundant compounds.\n",
    "2. Dilute metabolites absorbed in the small intestine.\n",
    "3. Add primary bile acids and mucin cores.\n",
    "4. Add in missing components to allow for at least slow growth for all known taxa residing in the human gut.\n",
    "\n",
    "That should leave us with a set of usable media for all later simulation steps.\n",
    "\n",
    "But first let us inspect the actual diet data we got. For that we will read the diet data, rearrange it a bit and add in annotations."
   ]
  },
  {
   "cell_type": "code",
   "execution_count": 20,
   "id": "590b14b2",
   "metadata": {},
   "outputs": [
    {
     "data": {
      "text/html": [
       "<div>\n",
       "<style scoped>\n",
       "    .dataframe tbody tr th:only-of-type {\n",
       "        vertical-align: middle;\n",
       "    }\n",
       "\n",
       "    .dataframe tbody tr th {\n",
       "        vertical-align: top;\n",
       "    }\n",
       "\n",
       "    .dataframe thead th {\n",
       "        text-align: right;\n",
       "    }\n",
       "</style>\n",
       "<table border=\"1\" class=\"dataframe\">\n",
       "  <thead>\n",
       "    <tr style=\"text-align: right;\">\n",
       "      <th></th>\n",
       "      <th>reaction</th>\n",
       "      <th>flux</th>\n",
       "      <th>metabolite</th>\n",
       "    </tr>\n",
       "  </thead>\n",
       "  <tbody>\n",
       "    <tr>\n",
       "      <th>0</th>\n",
       "      <td>EX_etoh[e]</td>\n",
       "      <td>234.434016</td>\n",
       "      <td>etoh</td>\n",
       "    </tr>\n",
       "    <tr>\n",
       "      <th>1</th>\n",
       "      <td>EX_h2o[e]</td>\n",
       "      <td>165892.342500</td>\n",
       "      <td>h2o</td>\n",
       "    </tr>\n",
       "    <tr>\n",
       "      <th>2</th>\n",
       "      <td>EX_caro[e]</td>\n",
       "      <td>0.003586</td>\n",
       "      <td>caro</td>\n",
       "    </tr>\n",
       "    <tr>\n",
       "      <th>3</th>\n",
       "      <td>EX_retinol[e]</td>\n",
       "      <td>3.002252</td>\n",
       "      <td>retinol</td>\n",
       "    </tr>\n",
       "    <tr>\n",
       "      <th>4</th>\n",
       "      <td>EX_thm[e]</td>\n",
       "      <td>5.407858</td>\n",
       "      <td>thm</td>\n",
       "    </tr>\n",
       "    <tr>\n",
       "      <th>...</th>\n",
       "      <td>...</td>\n",
       "      <td>...</td>\n",
       "      <td>...</td>\n",
       "    </tr>\n",
       "    <tr>\n",
       "      <th>86</th>\n",
       "      <td>EX_fol[e]</td>\n",
       "      <td>0.000135</td>\n",
       "      <td>fol</td>\n",
       "    </tr>\n",
       "    <tr>\n",
       "      <th>87</th>\n",
       "      <td>EX_hdcea[e]</td>\n",
       "      <td>7.120473</td>\n",
       "      <td>hdcea</td>\n",
       "    </tr>\n",
       "    <tr>\n",
       "      <th>88</th>\n",
       "      <td>EX_strch1[e]</td>\n",
       "      <td>33.037000</td>\n",
       "      <td>strch1</td>\n",
       "    </tr>\n",
       "    <tr>\n",
       "      <th>89</th>\n",
       "      <td>EX_i[e]</td>\n",
       "      <td>0.002012</td>\n",
       "      <td>i</td>\n",
       "    </tr>\n",
       "    <tr>\n",
       "      <th>90</th>\n",
       "      <td>EX_starch1200(e)</td>\n",
       "      <td>0.305870</td>\n",
       "      <td>starch1200</td>\n",
       "    </tr>\n",
       "  </tbody>\n",
       "</table>\n",
       "<p>91 rows × 3 columns</p>\n",
       "</div>"
      ],
      "text/plain": [
       "            reaction           flux  metabolite\n",
       "0         EX_etoh[e]     234.434016        etoh\n",
       "1          EX_h2o[e]  165892.342500         h2o\n",
       "2         EX_caro[e]       0.003586        caro\n",
       "3      EX_retinol[e]       3.002252     retinol\n",
       "4          EX_thm[e]       5.407858         thm\n",
       "..               ...            ...         ...\n",
       "86         EX_fol[e]       0.000135         fol\n",
       "87       EX_hdcea[e]       7.120473       hdcea\n",
       "88      EX_strch1[e]      33.037000      strch1\n",
       "89           EX_i[e]       0.002012           i\n",
       "90  EX_starch1200(e)       0.305870  starch1200\n",
       "\n",
       "[91 rows x 3 columns]"
      ]
     },
     "execution_count": 20,
     "metadata": {},
     "output_type": "execute_result"
    }
   ],
   "source": [
    "import pandas as pd\n",
    "\n",
    "diet = pd.read_csv(\"../data/vmh_eu_average.tsv\", sep=\"\\t\").iloc[:, 0:2]\n",
    "diet.columns = [\"reaction\", \"flux\"]\n",
    "annotations = pd.read_csv(\"../data/agora_metabolites.csv\") \n",
    "\n",
    "diet = diet.rename(columns={diet.columns[0]: \"reaction\"})\n",
    "diet[\"metabolite\"] = diet.reaction.str.replace(\"^EX_\", \"\", regex=True).str.replace(\"\\\\[e\\\\]|\\\\(e\\\\)\", \"\", regex=True)\n",
    "diet.loc[diet.metabolite == \"4hpro\", \"metabolite\"] = \"4hpro_LT\"  # fix name for hydroxyproline\n",
    "diet.loc[diet.flux == 0, \"flux\"] = 1e-4  # bug in VMH designer where everything <1e-4 gets truncated to 0\n",
    "\n",
    "diet"
   ]
  },
  {
   "cell_type": "markdown",
   "id": "a85a321d",
   "metadata": {},
   "source": [
    "## Adjust for intestinal adsorption\n",
    "\n",
    "To achieve this we will load the Recon3 human model. AGORA and Recon IDs are very similar so we should be able to match them. We just have to adjust the Recon3 ones a bit. We start by identifying all available exchanges in Recon3 and adjusting the IDs."
   ]
  },
  {
   "cell_type": "code",
   "execution_count": 21,
   "id": "f1f31d9f",
   "metadata": {},
   "outputs": [
    {
     "data": {
      "text/plain": [
       "0     5adtststerone\n",
       "1    5adtststerones\n",
       "2             5fthf\n",
       "3             5htrp\n",
       "4             5mthf\n",
       "dtype: object"
      ]
     },
     "execution_count": 21,
     "metadata": {},
     "output_type": "execute_result"
    }
   ],
   "source": [
    "from cobra.io import read_sbml_model\n",
    "import pandas as pd\n",
    "\n",
    "recon3 = read_sbml_model(\"../data/Recon3D.xml.gz\")\n",
    "exchanges = pd.Series([r.id for r in recon3.exchanges])\n",
    "exchanges = exchanges.str.replace(\"__\", \"_\").str.replace(\"_e$|EX_\", \"\", regex=True)\n",
    "exchanges.head()"
   ]
  },
  {
   "cell_type": "code",
   "execution_count": 22,
   "id": "834aa1f1",
   "metadata": {},
   "outputs": [
    {
     "data": {
      "text/plain": [
       "dilution\n",
       "0.2    79\n",
       "1.0    12\n",
       "Name: count, dtype: int64"
      ]
     },
     "execution_count": 22,
     "metadata": {},
     "output_type": "execute_result"
    }
   ],
   "source": [
    "diet[\"dilution\"] = 1.0\n",
    "diet.loc[diet.metabolite.isin(exchanges), \"dilution\"] = 0.2\n",
    "diet[\"flux\"] = diet[\"flux\"] * diet[\"dilution\"] \n",
    "diet[[\"metabolite\", \"dilution\"]].drop_duplicates().dilution.value_counts()"
   ]
  },
  {
   "cell_type": "markdown",
   "id": "bb180bcf",
   "metadata": {},
   "source": [
    "## Adding host supplied components\n",
    "\n",
    "Finally we add the host metabolites such as primary bile acids and mucins and a minuscule amount of oxygen."
   ]
  },
  {
   "cell_type": "code",
   "execution_count": 23,
   "id": "8982119f",
   "metadata": {},
   "outputs": [
    {
     "data": {
      "text/html": [
       "<div>\n",
       "<style scoped>\n",
       "    .dataframe tbody tr th:only-of-type {\n",
       "        vertical-align: middle;\n",
       "    }\n",
       "\n",
       "    .dataframe tbody tr th {\n",
       "        vertical-align: top;\n",
       "    }\n",
       "\n",
       "    .dataframe thead th {\n",
       "        text-align: right;\n",
       "    }\n",
       "</style>\n",
       "<table border=\"1\" class=\"dataframe\">\n",
       "  <thead>\n",
       "    <tr style=\"text-align: right;\">\n",
       "      <th></th>\n",
       "      <th>metabolite</th>\n",
       "      <th>reaction</th>\n",
       "      <th>flux</th>\n",
       "      <th>dilution</th>\n",
       "    </tr>\n",
       "  </thead>\n",
       "  <tbody>\n",
       "    <tr>\n",
       "      <th>0</th>\n",
       "      <td>etoh</td>\n",
       "      <td>EX_etoh(e)</td>\n",
       "      <td>46.886803</td>\n",
       "      <td>0.2</td>\n",
       "    </tr>\n",
       "    <tr>\n",
       "      <th>1</th>\n",
       "      <td>h2o</td>\n",
       "      <td>EX_h2o(e)</td>\n",
       "      <td>33178.468500</td>\n",
       "      <td>0.2</td>\n",
       "    </tr>\n",
       "    <tr>\n",
       "      <th>2</th>\n",
       "      <td>caro</td>\n",
       "      <td>EX_caro(e)</td>\n",
       "      <td>0.000717</td>\n",
       "      <td>0.2</td>\n",
       "    </tr>\n",
       "    <tr>\n",
       "      <th>3</th>\n",
       "      <td>retinol</td>\n",
       "      <td>EX_retinol(e)</td>\n",
       "      <td>0.600450</td>\n",
       "      <td>0.2</td>\n",
       "    </tr>\n",
       "    <tr>\n",
       "      <th>4</th>\n",
       "      <td>thm</td>\n",
       "      <td>EX_thm(e)</td>\n",
       "      <td>1.081572</td>\n",
       "      <td>0.2</td>\n",
       "    </tr>\n",
       "    <tr>\n",
       "      <th>...</th>\n",
       "      <td>...</td>\n",
       "      <td>...</td>\n",
       "      <td>...</td>\n",
       "      <td>...</td>\n",
       "    </tr>\n",
       "    <tr>\n",
       "      <th>102</th>\n",
       "      <td>gncore2_rl</td>\n",
       "      <td>EX_gncore2_rl(e)</td>\n",
       "      <td>1.000000</td>\n",
       "      <td>NaN</td>\n",
       "    </tr>\n",
       "    <tr>\n",
       "      <th>103</th>\n",
       "      <td>core7</td>\n",
       "      <td>EX_core7(e)</td>\n",
       "      <td>1.000000</td>\n",
       "      <td>NaN</td>\n",
       "    </tr>\n",
       "    <tr>\n",
       "      <th>104</th>\n",
       "      <td>gchola</td>\n",
       "      <td>EX_gchola(e)</td>\n",
       "      <td>1.000000</td>\n",
       "      <td>NaN</td>\n",
       "    </tr>\n",
       "    <tr>\n",
       "      <th>105</th>\n",
       "      <td>tchola</td>\n",
       "      <td>EX_tchola(e)</td>\n",
       "      <td>1.000000</td>\n",
       "      <td>NaN</td>\n",
       "    </tr>\n",
       "    <tr>\n",
       "      <th>106</th>\n",
       "      <td>o2</td>\n",
       "      <td>EX_o2(e)</td>\n",
       "      <td>0.001000</td>\n",
       "      <td>NaN</td>\n",
       "    </tr>\n",
       "  </tbody>\n",
       "</table>\n",
       "<p>107 rows × 4 columns</p>\n",
       "</div>"
      ],
      "text/plain": [
       "     metabolite          reaction          flux  dilution\n",
       "0          etoh        EX_etoh(e)     46.886803       0.2\n",
       "1           h2o         EX_h2o(e)  33178.468500       0.2\n",
       "2          caro        EX_caro(e)      0.000717       0.2\n",
       "3       retinol     EX_retinol(e)      0.600450       0.2\n",
       "4           thm         EX_thm(e)      1.081572       0.2\n",
       "..          ...               ...           ...       ...\n",
       "102  gncore2_rl  EX_gncore2_rl(e)      1.000000       NaN\n",
       "103       core7       EX_core7(e)      1.000000       NaN\n",
       "104      gchola      EX_gchola(e)      1.000000       NaN\n",
       "105      tchola      EX_tchola(e)      1.000000       NaN\n",
       "106          o2          EX_o2(e)      0.001000       NaN\n",
       "\n",
       "[107 rows x 4 columns]"
      ]
     },
     "execution_count": 23,
     "metadata": {},
     "output_type": "execute_result"
    }
   ],
   "source": [
    "diet.set_index(\"metabolite\", inplace=True)\n",
    "\n",
    "# mucin\n",
    "for met in annotations.loc[annotations.metabolite.str.contains(\"core\"), \"metabolite\"]:\n",
    "    diet.loc[met, \"flux\"] = 1\n",
    "\n",
    "# primary BAs\n",
    "for met in [\"gchola\", \"tchola\"]:\n",
    "    diet.loc[met, \"flux\"] = 1\n",
    "\n",
    "# fiber\n",
    "diet.loc[\"cellul\", \"flux\"] = 0.1\n",
    "\n",
    "# anaerobic\n",
    "diet.loc[\"o2\", \"flux\"] = 0.001\n",
    "\n",
    "diet.reset_index(inplace=True)\n",
    "diet[\"reaction\"] = \"EX_\" + diet.metabolite + \"(e)\"\n",
    "diet"
   ]
  },
  {
   "cell_type": "markdown",
   "id": "522870e5-a05c-4f60-acbc-5cccb8dd8f32",
   "metadata": {},
   "source": [
    "And we will merge this table with some annotations to make it more accessible."
   ]
  },
  {
   "cell_type": "code",
   "execution_count": 24,
   "id": "173463f8-282e-4630-86df-a9f80fb67df1",
   "metadata": {},
   "outputs": [
    {
     "data": {
      "text/html": [
       "<div>\n",
       "<style scoped>\n",
       "    .dataframe tbody tr th:only-of-type {\n",
       "        vertical-align: middle;\n",
       "    }\n",
       "\n",
       "    .dataframe tbody tr th {\n",
       "        vertical-align: top;\n",
       "    }\n",
       "\n",
       "    .dataframe thead th {\n",
       "        text-align: right;\n",
       "    }\n",
       "</style>\n",
       "<table border=\"1\" class=\"dataframe\">\n",
       "  <thead>\n",
       "    <tr style=\"text-align: right;\">\n",
       "      <th></th>\n",
       "      <th>metabolite</th>\n",
       "      <th>reaction</th>\n",
       "      <th>flux</th>\n",
       "      <th>dilution</th>\n",
       "      <th>name</th>\n",
       "      <th>hmdb</th>\n",
       "      <th>kegg.compound</th>\n",
       "      <th>pubchem.compound</th>\n",
       "      <th>inchi</th>\n",
       "      <th>chebi</th>\n",
       "      <th>global_id</th>\n",
       "    </tr>\n",
       "  </thead>\n",
       "  <tbody>\n",
       "    <tr>\n",
       "      <th>0</th>\n",
       "      <td>etoh</td>\n",
       "      <td>EX_etoh_m</td>\n",
       "      <td>46.886803</td>\n",
       "      <td>0.2</td>\n",
       "      <td>ethanol</td>\n",
       "      <td>HMDB00108</td>\n",
       "      <td>C00469</td>\n",
       "      <td>702.0</td>\n",
       "      <td>InChI=1S/C2H6O/c1-2-3/h3H,2H2,1H3</td>\n",
       "      <td>NaN</td>\n",
       "      <td>EX_etoh(e)</td>\n",
       "    </tr>\n",
       "    <tr>\n",
       "      <th>1</th>\n",
       "      <td>h2o</td>\n",
       "      <td>EX_h2o_m</td>\n",
       "      <td>33178.468500</td>\n",
       "      <td>0.2</td>\n",
       "      <td>Water</td>\n",
       "      <td>HMDB02111</td>\n",
       "      <td>C00001</td>\n",
       "      <td>962.0</td>\n",
       "      <td>InChI=1S/H2O/h1H2</td>\n",
       "      <td>NaN</td>\n",
       "      <td>EX_h2o(e)</td>\n",
       "    </tr>\n",
       "    <tr>\n",
       "      <th>2</th>\n",
       "      <td>caro</td>\n",
       "      <td>EX_caro_m</td>\n",
       "      <td>0.000717</td>\n",
       "      <td>0.2</td>\n",
       "      <td>beta-carotene</td>\n",
       "      <td>HMDB00561</td>\n",
       "      <td>C02094</td>\n",
       "      <td>NaN</td>\n",
       "      <td>NaN</td>\n",
       "      <td>NaN</td>\n",
       "      <td>EX_caro(e)</td>\n",
       "    </tr>\n",
       "    <tr>\n",
       "      <th>3</th>\n",
       "      <td>retinol</td>\n",
       "      <td>EX_retinol_m</td>\n",
       "      <td>0.600450</td>\n",
       "      <td>0.2</td>\n",
       "      <td>retinol</td>\n",
       "      <td>HMDB00305</td>\n",
       "      <td>C00473</td>\n",
       "      <td>445354.0</td>\n",
       "      <td>InChI=1S/C20H30O/c1-16(8-6-9-17(2)13-15-21)11-...</td>\n",
       "      <td>NaN</td>\n",
       "      <td>EX_retinol(e)</td>\n",
       "    </tr>\n",
       "    <tr>\n",
       "      <th>4</th>\n",
       "      <td>thm</td>\n",
       "      <td>EX_thm_m</td>\n",
       "      <td>1.081572</td>\n",
       "      <td>0.2</td>\n",
       "      <td>Thiamin</td>\n",
       "      <td>HMDB00235</td>\n",
       "      <td>C00378</td>\n",
       "      <td>1130.0</td>\n",
       "      <td>InChI=1S/C12H17N4OS/c1-8-11(3-4-17)18-7-16(8)6...</td>\n",
       "      <td>NaN</td>\n",
       "      <td>EX_thm(e)</td>\n",
       "    </tr>\n",
       "  </tbody>\n",
       "</table>\n",
       "</div>"
      ],
      "text/plain": [
       "  metabolite      reaction          flux  dilution           name       hmdb  \\\n",
       "0       etoh     EX_etoh_m     46.886803       0.2        ethanol  HMDB00108   \n",
       "1        h2o      EX_h2o_m  33178.468500       0.2          Water  HMDB02111   \n",
       "2       caro     EX_caro_m      0.000717       0.2  beta-carotene  HMDB00561   \n",
       "3    retinol  EX_retinol_m      0.600450       0.2        retinol  HMDB00305   \n",
       "4        thm      EX_thm_m      1.081572       0.2        Thiamin  HMDB00235   \n",
       "\n",
       "  kegg.compound  pubchem.compound  \\\n",
       "0        C00469             702.0   \n",
       "1        C00001             962.0   \n",
       "2        C02094               NaN   \n",
       "3        C00473          445354.0   \n",
       "4        C00378            1130.0   \n",
       "\n",
       "                                               inchi chebi      global_id  \n",
       "0                  InChI=1S/C2H6O/c1-2-3/h3H,2H2,1H3   NaN     EX_etoh(e)  \n",
       "1                                  InChI=1S/H2O/h1H2   NaN      EX_h2o(e)  \n",
       "2                                                NaN   NaN     EX_caro(e)  \n",
       "3  InChI=1S/C20H30O/c1-16(8-6-9-17(2)13-15-21)11-...   NaN  EX_retinol(e)  \n",
       "4  InChI=1S/C12H17N4OS/c1-8-11(3-4-17)18-7-16(8)6...   NaN      EX_thm(e)  "
      ]
     },
     "execution_count": 24,
     "metadata": {},
     "output_type": "execute_result"
    }
   ],
   "source": [
    "skeleton = pd.merge(diet, annotations, on=\"metabolite\")\n",
    "\n",
    "skeleton[\"global_id\"] = skeleton.reaction\n",
    "skeleton[\"reaction\"] = \"EX_\" + skeleton.metabolite + \"_m\"\n",
    "skeleton.head()"
   ]
  },
  {
   "cell_type": "markdown",
   "id": "670b8926",
   "metadata": {},
   "source": [
    "## Complete the medium\n",
    "\n",
    "Great we now have a pretty good skeleton. One issue that this will never be fully complete. There will always be some components missing that are essential for microbial growth. Fortunately, we provide a algorithm in MICOM to complete a medium with the smallest set of additional components to provide growth to all intestinal taxa."
   ]
  },
  {
   "cell_type": "code",
   "execution_count": 25,
   "id": "d967149a",
   "metadata": {},
   "outputs": [
    {
     "data": {
      "text/html": [
       "<pre style=\"white-space:pre;overflow-x:auto;line-height:normal;font-family:Menlo,'DejaVu Sans Mono',consolas,'Courier New',monospace\">Completing <span style=\"color: #008080; text-decoration-color: #008080; font-weight: bold\">1439</span> species-level models on a medium with <span style=\"color: #008080; text-decoration-color: #008080; font-weight: bold\">88</span> components <span style=\"font-weight: bold\">(</span><span style=\"color: #800000; text-decoration-color: #800000; font-weight: bold\">0</span><span style=\"color: #800000; text-decoration-color: #800000\"> strict</span><span style=\"font-weight: bold\">)</span>.\n",
       "</pre>\n"
      ],
      "text/plain": [
       "Completing \u001b[1;36m1439\u001b[0m species-level models on a medium with \u001b[1;36m88\u001b[0m components \u001b[1m(\u001b[0m\u001b[1;31m0\u001b[0m\u001b[31m strict\u001b[0m\u001b[1m)\u001b[0m.\n"
      ]
     },
     "metadata": {},
     "output_type": "display_data"
    },
    {
     "data": {
      "application/vnd.jupyter.widget-view+json": {
       "model_id": "cda3c01e2a394136a60e9810e4a7015d",
       "version_major": 2,
       "version_minor": 0
      },
      "text/plain": [
       "Output()"
      ]
     },
     "metadata": {},
     "output_type": "display_data"
    },
    {
     "data": {
      "text/html": [
       "<pre style=\"white-space:pre;overflow-x:auto;line-height:normal;font-family:Menlo,'DejaVu Sans Mono',consolas,'Courier New',monospace\"></pre>\n"
      ],
      "text/plain": []
     },
     "metadata": {},
     "output_type": "display_data"
    },
    {
     "data": {
      "text/html": [
       "<pre style=\"white-space:pre;overflow-x:auto;line-height:normal;font-family:Menlo,'DejaVu Sans Mono',consolas,'Courier New',monospace\">Obtained growth for <span style=\"color: #008080; text-decoration-color: #008080; font-weight: bold\">1436</span> models adding additional flux of <span style=\"color: #008080; text-decoration-color: #008080; font-weight: bold\">0.34</span>/<span style=\"color: #008080; text-decoration-color: #008080; font-weight: bold\">33777.05</span> on average.\n",
       "</pre>\n"
      ],
      "text/plain": [
       "Obtained growth for \u001b[1;36m1436\u001b[0m models adding additional flux of \u001b[1;36m0.34\u001b[0m/\u001b[1;36m33777.05\u001b[0m on average.\n"
      ]
     },
     "metadata": {},
     "output_type": "display_data"
    }
   ],
   "source": [
    "from micom.workflows.db_media import complete_db_medium\n",
    "\n",
    "manifest, imports = complete_db_medium(\"../../Database/agora201_gtdb207_species_1.qza\", skeleton, growth=0.05, threads=12, max_added_import=10, weights=\"mass\")"
   ]
  },
  {
   "cell_type": "code",
   "execution_count": 26,
   "id": "bff8134e",
   "metadata": {},
   "outputs": [
    {
     "data": {
      "text/plain": [
       "can_grow\n",
       "True     1436\n",
       "False       3\n",
       "Name: count, dtype: int64"
      ]
     },
     "execution_count": 26,
     "metadata": {},
     "output_type": "execute_result"
    }
   ],
   "source": [
    "manifest.can_grow.value_counts()"
   ]
  },
  {
   "cell_type": "code",
   "execution_count": 27,
   "id": "cec3a106",
   "metadata": {},
   "outputs": [
    {
     "name": "stdout",
     "output_type": "stream",
     "text": [
      "Added flux is 74.88/34055.42 mmol/h.\n"
     ]
    }
   ],
   "source": [
    "filled = imports.max()\n",
    "added = filled[~filled.index.isin(skeleton.reaction)]\n",
    "print(f\"Added flux is {added.sum():.2f}/{filled.sum():.2f} mmol/h.\")"
   ]
  },
  {
   "cell_type": "markdown",
   "id": "d3e295ba",
   "metadata": {},
   "source": [
    "Let's see what was added in large amounts."
   ]
  },
  {
   "cell_type": "code",
   "execution_count": 28,
   "id": "3dcb972b",
   "metadata": {},
   "outputs": [
    {
     "data": {
      "text/plain": [
       "EX_h_m         10.000000\n",
       "EX_for_m       10.000000\n",
       "EX_acald_m      9.849747\n",
       "EX_h2_m         6.073638\n",
       "EX_succ_m       5.742761\n",
       "EX_gcald_m      5.142999\n",
       "EX_tre_m        4.798665\n",
       "EX_urea_m       2.666784\n",
       "EX_nh4_m        2.485410\n",
       "EX_no3_m        2.303392\n",
       "EX_fum_m        2.108646\n",
       "EX_ac_m         1.611999\n",
       "EX_co2_m        1.572000\n",
       "EX_oxa_m        1.511832\n",
       "EX_glyc_m       1.313127\n",
       "EX_rib_D_m      1.159081\n",
       "EX_glyleu_m     0.924240\n",
       "EX_glyc3p_m     0.654449\n",
       "EX_no2_m        0.608062\n",
       "EX_lac_D_m      0.505106\n",
       "dtype: float64"
      ]
     },
     "execution_count": 28,
     "metadata": {},
     "output_type": "execute_result"
    }
   ],
   "source": [
    "added.sort_values(ascending=False)[0:20]"
   ]
  },
  {
   "cell_type": "markdown",
   "id": "e2135926",
   "metadata": {},
   "source": [
    "Looks okay. So we will now assemble the final medium. For this we add the new components to each sample and rebuild the annotations for a nicely formatted medium."
   ]
  },
  {
   "cell_type": "code",
   "execution_count": 29,
   "id": "1e7d505d",
   "metadata": {},
   "outputs": [
    {
     "data": {
      "text/html": [
       "<div>\n",
       "<style scoped>\n",
       "    .dataframe tbody tr th:only-of-type {\n",
       "        vertical-align: middle;\n",
       "    }\n",
       "\n",
       "    .dataframe tbody tr th {\n",
       "        vertical-align: top;\n",
       "    }\n",
       "\n",
       "    .dataframe thead th {\n",
       "        text-align: right;\n",
       "    }\n",
       "</style>\n",
       "<table border=\"1\" class=\"dataframe\">\n",
       "  <thead>\n",
       "    <tr style=\"text-align: right;\">\n",
       "      <th></th>\n",
       "      <th>metabolite</th>\n",
       "      <th>flux</th>\n",
       "      <th>name</th>\n",
       "      <th>hmdb</th>\n",
       "      <th>kegg.compound</th>\n",
       "      <th>pubchem.compound</th>\n",
       "      <th>inchi</th>\n",
       "      <th>chebi</th>\n",
       "      <th>reaction</th>\n",
       "      <th>global_id</th>\n",
       "    </tr>\n",
       "  </thead>\n",
       "  <tbody>\n",
       "    <tr>\n",
       "      <th>0</th>\n",
       "      <td>etoh</td>\n",
       "      <td>46.886803</td>\n",
       "      <td>ethanol</td>\n",
       "      <td>HMDB00108</td>\n",
       "      <td>C00469</td>\n",
       "      <td>702.0</td>\n",
       "      <td>InChI=1S/C2H6O/c1-2-3/h3H,2H2,1H3</td>\n",
       "      <td>NaN</td>\n",
       "      <td>EX_etoh_m</td>\n",
       "      <td>EX_etoh(e)</td>\n",
       "    </tr>\n",
       "    <tr>\n",
       "      <th>1</th>\n",
       "      <td>h2o</td>\n",
       "      <td>33178.468500</td>\n",
       "      <td>Water</td>\n",
       "      <td>HMDB02111</td>\n",
       "      <td>C00001</td>\n",
       "      <td>962.0</td>\n",
       "      <td>InChI=1S/H2O/h1H2</td>\n",
       "      <td>NaN</td>\n",
       "      <td>EX_h2o_m</td>\n",
       "      <td>EX_h2o(e)</td>\n",
       "    </tr>\n",
       "    <tr>\n",
       "      <th>2</th>\n",
       "      <td>caro</td>\n",
       "      <td>0.000717</td>\n",
       "      <td>beta-carotene</td>\n",
       "      <td>HMDB00561</td>\n",
       "      <td>C02094</td>\n",
       "      <td>NaN</td>\n",
       "      <td>NaN</td>\n",
       "      <td>NaN</td>\n",
       "      <td>EX_caro_m</td>\n",
       "      <td>EX_caro(e)</td>\n",
       "    </tr>\n",
       "    <tr>\n",
       "      <th>3</th>\n",
       "      <td>retinol</td>\n",
       "      <td>0.600450</td>\n",
       "      <td>retinol</td>\n",
       "      <td>HMDB00305</td>\n",
       "      <td>C00473</td>\n",
       "      <td>445354.0</td>\n",
       "      <td>InChI=1S/C20H30O/c1-16(8-6-9-17(2)13-15-21)11-...</td>\n",
       "      <td>NaN</td>\n",
       "      <td>EX_retinol_m</td>\n",
       "      <td>EX_retinol(e)</td>\n",
       "    </tr>\n",
       "    <tr>\n",
       "      <th>4</th>\n",
       "      <td>thm</td>\n",
       "      <td>1.081572</td>\n",
       "      <td>Thiamin</td>\n",
       "      <td>HMDB00235</td>\n",
       "      <td>C00378</td>\n",
       "      <td>1130.0</td>\n",
       "      <td>InChI=1S/C12H17N4OS/c1-8-11(3-4-17)18-7-16(8)6...</td>\n",
       "      <td>NaN</td>\n",
       "      <td>EX_thm_m</td>\n",
       "      <td>EX_thm(e)</td>\n",
       "    </tr>\n",
       "    <tr>\n",
       "      <th>...</th>\n",
       "      <td>...</td>\n",
       "      <td>...</td>\n",
       "      <td>...</td>\n",
       "      <td>...</td>\n",
       "      <td>...</td>\n",
       "      <td>...</td>\n",
       "      <td>...</td>\n",
       "      <td>...</td>\n",
       "      <td>...</td>\n",
       "      <td>...</td>\n",
       "    </tr>\n",
       "    <tr>\n",
       "      <th>221</th>\n",
       "      <td>ph2s</td>\n",
       "      <td>0.002058</td>\n",
       "      <td>Polysulfide</td>\n",
       "      <td>NaN</td>\n",
       "      <td>NaN</td>\n",
       "      <td>NaN</td>\n",
       "      <td>NaN</td>\n",
       "      <td>NaN</td>\n",
       "      <td>EX_ph2s_m</td>\n",
       "      <td>EX_ph2s(e)</td>\n",
       "    </tr>\n",
       "    <tr>\n",
       "      <th>222</th>\n",
       "      <td>meoh</td>\n",
       "      <td>0.000310</td>\n",
       "      <td>methanol</td>\n",
       "      <td>HMDB01875</td>\n",
       "      <td>C00132</td>\n",
       "      <td>887.0</td>\n",
       "      <td>InChI=1S/CH4O/c1-2/h2H,1H3</td>\n",
       "      <td>NaN</td>\n",
       "      <td>EX_meoh_m</td>\n",
       "      <td>EX_meoh(e)</td>\n",
       "    </tr>\n",
       "    <tr>\n",
       "      <th>223</th>\n",
       "      <td>melib</td>\n",
       "      <td>0.020715</td>\n",
       "      <td>Melibiose</td>\n",
       "      <td>NaN</td>\n",
       "      <td>NaN</td>\n",
       "      <td>NaN</td>\n",
       "      <td>NaN</td>\n",
       "      <td>NaN</td>\n",
       "      <td>EX_melib_m</td>\n",
       "      <td>EX_melib(e)</td>\n",
       "    </tr>\n",
       "    <tr>\n",
       "      <th>224</th>\n",
       "      <td>Lkynr</td>\n",
       "      <td>0.000310</td>\n",
       "      <td>L-kynurenine</td>\n",
       "      <td>HMDB00684</td>\n",
       "      <td>C00328</td>\n",
       "      <td>161166.0</td>\n",
       "      <td>InChI=1S/C10H12N2O3/c11-7-4-2-1-3-6(7)9(13)5-8...</td>\n",
       "      <td>NaN</td>\n",
       "      <td>EX_Lkynr_m</td>\n",
       "      <td>EX_Lkynr(e)</td>\n",
       "    </tr>\n",
       "    <tr>\n",
       "      <th>225</th>\n",
       "      <td>xylan</td>\n",
       "      <td>0.000024</td>\n",
       "      <td>Oat spelt xylan, MW 79200 (DOI: 10.1002/masy.2...</td>\n",
       "      <td>NaN</td>\n",
       "      <td>NaN</td>\n",
       "      <td>NaN</td>\n",
       "      <td>NaN</td>\n",
       "      <td>NaN</td>\n",
       "      <td>EX_xylan_m</td>\n",
       "      <td>EX_xylan(e)</td>\n",
       "    </tr>\n",
       "  </tbody>\n",
       "</table>\n",
       "<p>226 rows × 10 columns</p>\n",
       "</div>"
      ],
      "text/plain": [
       "    metabolite          flux  \\\n",
       "0         etoh     46.886803   \n",
       "1          h2o  33178.468500   \n",
       "2         caro      0.000717   \n",
       "3      retinol      0.600450   \n",
       "4          thm      1.081572   \n",
       "..         ...           ...   \n",
       "221       ph2s      0.002058   \n",
       "222       meoh      0.000310   \n",
       "223      melib      0.020715   \n",
       "224      Lkynr      0.000310   \n",
       "225      xylan      0.000024   \n",
       "\n",
       "                                                  name       hmdb  \\\n",
       "0                                              ethanol  HMDB00108   \n",
       "1                                                Water  HMDB02111   \n",
       "2                                        beta-carotene  HMDB00561   \n",
       "3                                              retinol  HMDB00305   \n",
       "4                                              Thiamin  HMDB00235   \n",
       "..                                                 ...        ...   \n",
       "221                                        Polysulfide        NaN   \n",
       "222                                           methanol  HMDB01875   \n",
       "223                                          Melibiose        NaN   \n",
       "224                                       L-kynurenine  HMDB00684   \n",
       "225  Oat spelt xylan, MW 79200 (DOI: 10.1002/masy.2...        NaN   \n",
       "\n",
       "    kegg.compound  pubchem.compound  \\\n",
       "0          C00469             702.0   \n",
       "1          C00001             962.0   \n",
       "2          C02094               NaN   \n",
       "3          C00473          445354.0   \n",
       "4          C00378            1130.0   \n",
       "..            ...               ...   \n",
       "221           NaN               NaN   \n",
       "222        C00132             887.0   \n",
       "223           NaN               NaN   \n",
       "224        C00328          161166.0   \n",
       "225           NaN               NaN   \n",
       "\n",
       "                                                 inchi chebi      reaction  \\\n",
       "0                    InChI=1S/C2H6O/c1-2-3/h3H,2H2,1H3   NaN     EX_etoh_m   \n",
       "1                                    InChI=1S/H2O/h1H2   NaN      EX_h2o_m   \n",
       "2                                                  NaN   NaN     EX_caro_m   \n",
       "3    InChI=1S/C20H30O/c1-16(8-6-9-17(2)13-15-21)11-...   NaN  EX_retinol_m   \n",
       "4    InChI=1S/C12H17N4OS/c1-8-11(3-4-17)18-7-16(8)6...   NaN      EX_thm_m   \n",
       "..                                                 ...   ...           ...   \n",
       "221                                                NaN   NaN     EX_ph2s_m   \n",
       "222                         InChI=1S/CH4O/c1-2/h2H,1H3   NaN     EX_meoh_m   \n",
       "223                                                NaN   NaN    EX_melib_m   \n",
       "224  InChI=1S/C10H12N2O3/c11-7-4-2-1-3-6(7)9(13)5-8...   NaN    EX_Lkynr_m   \n",
       "225                                                NaN   NaN    EX_xylan_m   \n",
       "\n",
       "         global_id  \n",
       "0       EX_etoh(e)  \n",
       "1        EX_h2o(e)  \n",
       "2       EX_caro(e)  \n",
       "3    EX_retinol(e)  \n",
       "4        EX_thm(e)  \n",
       "..             ...  \n",
       "221     EX_ph2s(e)  \n",
       "222     EX_meoh(e)  \n",
       "223    EX_melib(e)  \n",
       "224    EX_Lkynr(e)  \n",
       "225    EX_xylan(e)  \n",
       "\n",
       "[226 rows x 10 columns]"
      ]
     },
     "execution_count": 29,
     "metadata": {},
     "output_type": "execute_result"
    }
   ],
   "source": [
    "added_df = added.reset_index() \n",
    "added_df.iloc[:, 0] = added_df.iloc[:, 0].str.replace(\"EX_|_m$\", \"\", regex=True)\n",
    "added_df.columns = [\"metabolite\", \"flux\"]\n",
    "added_df = pd.concat([skeleton[[\"metabolite\", \"flux\"]], added_df])\n",
    "\n",
    "completed = pd.merge(added_df, annotations, on=\"metabolite\", how=\"left\")\n",
    "completed[\"reaction\"] = \"EX_\" + completed.metabolite + \"_m\"\n",
    "completed[\"global_id\"] = \"EX_\" + completed.metabolite + \"(e)\"\n",
    "completed"
   ]
  },
  {
   "cell_type": "markdown",
   "id": "78684d87-8191-4096-85ac-766645019e63",
   "metadata": {},
   "source": [
    "## Validate the medium\n",
    "\n",
    "And we will now validate whether the medium works."
   ]
  },
  {
   "cell_type": "code",
   "execution_count": 30,
   "id": "9b1eecad-9c6c-478e-ab76-86d39c653f70",
   "metadata": {},
   "outputs": [
    {
     "data": {
      "text/html": [
       "<pre style=\"white-space:pre;overflow-x:auto;line-height:normal;font-family:Menlo,'DejaVu Sans Mono',consolas,'Courier New',monospace\">Checking <span style=\"color: #008080; text-decoration-color: #008080; font-weight: bold\">1439</span> species-level models on a medium with <span style=\"color: #008080; text-decoration-color: #008080; font-weight: bold\">226</span> components.\n",
       "</pre>\n"
      ],
      "text/plain": [
       "Checking \u001b[1;36m1439\u001b[0m species-level models on a medium with \u001b[1;36m226\u001b[0m components.\n"
      ]
     },
     "metadata": {},
     "output_type": "display_data"
    },
    {
     "data": {
      "application/vnd.jupyter.widget-view+json": {
       "model_id": "9d68bcb7ab734ffcbe162a4580f968e7",
       "version_major": 2,
       "version_minor": 0
      },
      "text/plain": [
       "Output()"
      ]
     },
     "metadata": {},
     "output_type": "display_data"
    },
    {
     "data": {
      "text/html": [
       "<pre style=\"white-space:pre;overflow-x:auto;line-height:normal;font-family:Menlo,'DejaVu Sans Mono',consolas,'Courier New',monospace\"></pre>\n"
      ],
      "text/plain": []
     },
     "metadata": {},
     "output_type": "display_data"
    }
   ],
   "source": [
    "from micom.workflows.db_media import check_db_medium\n",
    "\n",
    "check = check_db_medium(\"../../Database/agora201_gtdb207_species_1.qza\", medium=completed, threads=12)"
   ]
  },
  {
   "cell_type": "code",
   "execution_count": 31,
   "id": "381f3b8c-50a3-4ef2-8795-44185f141685",
   "metadata": {},
   "outputs": [
    {
     "data": {
      "text/plain": [
       "count    1439.000000\n",
       "mean        0.053582\n",
       "std         0.076636\n",
       "min         0.000499\n",
       "25%         0.001247\n",
       "50%         0.004966\n",
       "75%         0.071942\n",
       "max         0.323333\n",
       "Name: growth_rate, dtype: float64"
      ]
     },
     "execution_count": 31,
     "metadata": {},
     "output_type": "execute_result"
    }
   ],
   "source": [
    "check.growth_rate.describe()"
   ]
  },
  {
   "cell_type": "markdown",
   "id": "3fde8ce7",
   "metadata": {},
   "source": [
    "And we are done now and will the save the final medium."
   ]
  },
  {
   "cell_type": "code",
   "execution_count": 32,
   "id": "533a5daa-1439-4675-883e-d51b7081fc3f",
   "metadata": {},
   "outputs": [
    {
     "data": {
      "text/plain": [
       "'../media/vmh_eu_average_agora2.qza'"
      ]
     },
     "execution_count": 32,
     "metadata": {},
     "output_type": "execute_result"
    }
   ],
   "source": [
    "import qiime2 as q2\n",
    "\n",
    "arti = q2.Artifact.import_data(\"MicomMedium[Global]\", completed)\n",
    "arti.save(\"../media/vmh_eu_average_agora2.qza\")"
   ]
  },
  {
   "cell_type": "code",
   "execution_count": null,
   "id": "4f17f026-83f0-4b14-8f0b-3d59ef369076",
   "metadata": {},
   "outputs": [],
   "source": []
  }
 ],
 "metadata": {
  "kernelspec": {
   "display_name": "Python 3",
   "language": "python",
   "name": "python3"
  },
  "language_info": {
   "codemirror_mode": {
    "name": "ipython",
    "version": 3
   },
   "file_extension": ".py",
   "mimetype": "text/x-python",
   "name": "python",
   "nbconvert_exporter": "python",
   "pygments_lexer": "ipython3",
   "version": "3.8.15"
  }
 },
 "nbformat": 4,
 "nbformat_minor": 5
}
